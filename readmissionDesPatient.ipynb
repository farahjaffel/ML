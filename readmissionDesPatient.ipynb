{
  "cells": [
    {
      "cell_type": "code",
      "execution_count": 2,
      "id": "a8ae49ea-6d58-4904-943e-3c3782b993c4",
      "metadata": {
        "colab": {
          "base_uri": "https://localhost:8080/"
        },
        "id": "a8ae49ea-6d58-4904-943e-3c3782b993c4",
        "outputId": "f40f0676-f9cc-4c2f-c27a-1fdb4131f0fa"
      },
      "outputs": [
        {
          "output_type": "stream",
          "name": "stdout",
          "text": [
            "Accuracy: 0.8461538461538461\n",
            "              precision    recall  f1-score   support\n",
            "\n",
            "           0       0.84      0.94      0.89        17\n",
            "           1       0.86      0.67      0.75         9\n",
            "\n",
            "    accuracy                           0.85        26\n",
            "   macro avg       0.85      0.80      0.82        26\n",
            "weighted avg       0.85      0.85      0.84        26\n",
            "\n"
          ]
        }
      ],
      "source": [
        "# 📦 1. Import des bibliothèques\n",
        "import pandas as pd\n",
        "import numpy as np\n",
        "from sklearn.model_selection import train_test_split\n",
        "from sklearn.preprocessing import LabelEncoder, StandardScaler\n",
        "from sklearn.neighbors import KNeighborsClassifier\n",
        "from sklearn.metrics import classification_report, accuracy_score\n",
        "\n",
        "# 📂 2. Charger les données\n",
        "df = pd.read_csv(\"admission_des_patients.csv\")\n",
        "\n",
        "# ✅ 3. Création de la colonne 'Revisited'\n",
        "df['Revisited'] = df['subject_id'].map(df['subject_id'].value_counts() > 1).astype(int)\n",
        "\n",
        "# 🧼 4. Sélection des colonnes utiles pour la prédiction\n",
        "features = [\n",
        "    \"gender\", \"HeightInMeters\", \"WeightInKilograms\", \"BMI\",\n",
        "    \"SmokerStatus\", \"AlcoholDrinkers\", \"AdmissionYear\", \"AdmissionDayOfWeek\"\n",
        "]\n",
        "\n",
        "df = df[features + [\"Revisited\"]]\n",
        "\n",
        "# 🧽 5. Nettoyage des données\n",
        "# Remplacer les virgules par des points et convertir en float\n",
        "df[\"HeightInMeters\"] = df[\"HeightInMeters\"].str.replace(\",\", \".\").astype(float)\n",
        "df[\"WeightInKilograms\"] = df[\"WeightInKilograms\"].str.replace(\",\", \".\").astype(float)\n",
        "df[\"BMI\"] = df[\"BMI\"].str.replace(\",\", \".\").astype(float)\n",
        "\n",
        "# Remplacer les valeurs manquantes par la moyenne ou une valeur constante\n",
        "df = df.dropna()\n",
        "\n",
        "# 🔢 6. Encodage des variables catégorielles\n",
        "label_cols = [\"gender\", \"SmokerStatus\"]\n",
        "label_encoders = {}\n",
        "\n",
        "for col in label_cols:\n",
        "    le = LabelEncoder()\n",
        "    df[col] = le.fit_transform(df[col])\n",
        "    label_encoders[col] = le\n",
        "\n",
        "# ⚖️ 7. Séparation des données\n",
        "X = df.drop(\"Revisited\", axis=1)\n",
        "y = df[\"Revisited\"]\n",
        "\n",
        "X_train, X_test, y_train, y_test = train_test_split(X, y, test_size=0.2, random_state=42)\n",
        "\n",
        "# 🔍 8. Normalisation des données\n",
        "scaler = StandardScaler()\n",
        "X_train_scaled = scaler.fit_transform(X_train)\n",
        "X_test_scaled = scaler.transform(X_test)\n",
        "\n",
        "# 🤖 9. Modélisation avec KNN\n",
        "knn = KNeighborsClassifier(n_neighbors=5)\n",
        "knn.fit(X_train_scaled, y_train)\n",
        "\n",
        "# 🧪 10. Prédiction et évaluation\n",
        "y_pred = knn.predict(X_test_scaled)\n",
        "print(\"Accuracy:\", accuracy_score(y_test, y_pred))\n",
        "print(classification_report(y_test, y_pred))\n",
        "\n",
        "\n"
      ]
    },
    {
      "cell_type": "code",
      "execution_count": 3,
      "id": "de659cbc-f98b-42cf-aaa8-51300ded647d",
      "metadata": {
        "colab": {
          "base_uri": "https://localhost:8080/"
        },
        "id": "de659cbc-f98b-42cf-aaa8-51300ded647d",
        "outputId": "a4878fc3-8040-4544-96a5-649b5d4f301e"
      },
      "outputs": [
        {
          "output_type": "stream",
          "name": "stdout",
          "text": [
            "✅ Accuracy : 0.8076923076923077\n",
            "📋 Rapport de classification :\n",
            "               precision    recall  f1-score   support\n",
            "\n",
            "           0       0.88      0.82      0.85        17\n",
            "           1       0.70      0.78      0.74         9\n",
            "\n",
            "    accuracy                           0.81        26\n",
            "   macro avg       0.79      0.80      0.79        26\n",
            "weighted avg       0.81      0.81      0.81        26\n",
            "\n",
            "📊 Matrice de confusion :\n",
            " [[14  3]\n",
            " [ 2  7]]\n",
            "🔮 Revisitera ? Non\n"
          ]
        }
      ],
      "source": [
        "# 📦 Imports\n",
        "import pandas as pd\n",
        "import numpy as np\n",
        "from sklearn.model_selection import train_test_split\n",
        "from sklearn.preprocessing import LabelEncoder, StandardScaler\n",
        "from sklearn.ensemble import RandomForestClassifier\n",
        "from sklearn.metrics import classification_report, accuracy_score, confusion_matrix\n",
        "\n",
        "# 📂 Charger les données\n",
        "df = pd.read_csv(\"admission_des_patients.csv\")\n",
        "\n",
        "# ✅ Ajouter la colonne 'Revisited'\n",
        "df['Revisited'] = df['subject_id'].map(df['subject_id'].value_counts() > 1).astype(int)\n",
        "\n",
        "# 🧼 Nettoyage des colonnes numériques\n",
        "df[\"HeightInMeters\"] = df[\"HeightInMeters\"].astype(str).str.replace(\",\", \".\").astype(float)\n",
        "df[\"WeightInKilograms\"] = df[\"WeightInKilograms\"].astype(str).str.replace(\",\", \".\").astype(float)\n",
        "df[\"BMI\"] = df[\"BMI\"].astype(str).str.replace(\",\", \".\").astype(float)\n",
        "\n",
        "# 🧽 Sélection des colonnes\n",
        "features = [\n",
        "    \"gender\", \"HeightInMeters\", \"WeightInKilograms\", \"BMI\",\n",
        "    \"SmokerStatus\", \"AlcoholDrinkers\", \"AdmissionYear\", \"AdmissionDayOfWeek\"\n",
        "]\n",
        "df = df[features + [\"Revisited\"]].dropna()\n",
        "\n",
        "# 🔢 Encodage des colonnes catégorielles\n",
        "label_encoders = {}\n",
        "for col in [\"gender\", \"SmokerStatus\"]:\n",
        "    le = LabelEncoder()\n",
        "    df[col] = le.fit_transform(df[col])\n",
        "    label_encoders[col] = le\n",
        "\n",
        "# ⚖️ Séparation X / y\n",
        "X = df.drop(\"Revisited\", axis=1)\n",
        "y = df[\"Revisited\"]\n",
        "\n",
        "# 📊 Split données\n",
        "X_train, X_test, y_train, y_test = train_test_split(X, y, test_size=0.2, random_state=42)\n",
        "\n",
        "# 🔍 Standardisation\n",
        "scaler = StandardScaler()\n",
        "X_train_scaled = scaler.fit_transform(X_train)\n",
        "X_test_scaled = scaler.transform(X_test)\n",
        "\n",
        "# 🌲 Modèle Random Forest\n",
        "rf = RandomForestClassifier(n_estimators=100, random_state=42)\n",
        "rf.fit(X_train_scaled, y_train)\n",
        "\n",
        "# 📈 Prédiction\n",
        "y_pred = rf.predict(X_test_scaled)\n",
        "\n",
        "# 🧾 Métriques\n",
        "print(\"✅ Accuracy :\", accuracy_score(y_test, y_pred))\n",
        "print(\"📋 Rapport de classification :\\n\", classification_report(y_test, y_pred))\n",
        "print(\"📊 Matrice de confusion :\\n\", confusion_matrix(y_test, y_pred))\n",
        "\n",
        "# 🔮 Exemple de prédiction pour un nouveau patient\n",
        "new_patient = pd.DataFrame([{\n",
        "    \"gender\": label_encoders[\"gender\"].transform([\"F\"])[0],\n",
        "    \"HeightInMeters\": 1.70,\n",
        "    \"WeightInKilograms\": 68,\n",
        "    \"BMI\": 23.5,\n",
        "    \"SmokerStatus\": label_encoders[\"SmokerStatus\"].transform([\"Never smoked\"])[0],\n",
        "    \"AlcoholDrinkers\": 0,\n",
        "    \"AdmissionYear\": 2165,\n",
        "    \"AdmissionDayOfWeek\": 2\n",
        "}])\n",
        "\n",
        "new_patient_scaled = scaler.transform(new_patient)\n",
        "revisit_pred = rf.predict(new_patient_scaled)\n",
        "print(\"🔮 Revisitera ?\", \"Oui\" if revisit_pred[0] == 1 else \"Non\")\n"
      ]
    },
    {
      "cell_type": "code",
      "execution_count": 4,
      "id": "666fe600-de2b-4d38-92b1-400f4f789be4",
      "metadata": {
        "colab": {
          "base_uri": "https://localhost:8080/"
        },
        "id": "666fe600-de2b-4d38-92b1-400f4f789be4",
        "outputId": "dd21fb1a-76b7-481d-8cd1-f88b264caf94"
      },
      "outputs": [
        {
          "output_type": "stream",
          "name": "stdout",
          "text": [
            "Fitting 5 folds for each of 80 candidates, totalling 400 fits\n",
            "✅ Meilleurs paramètres : {'n_neighbors': 7, 'p': 1, 'weights': 'distance'}\n",
            "📈 Meilleure accuracy (CV) : 0.8747619047619046\n",
            "🎯 Accuracy sur le test : 0.8461538461538461\n",
            "📋 Rapport de classification :\n",
            "               precision    recall  f1-score   support\n",
            "\n",
            "           0       0.88      0.88      0.88        17\n",
            "           1       0.78      0.78      0.78         9\n",
            "\n",
            "    accuracy                           0.85        26\n",
            "   macro avg       0.83      0.83      0.83        26\n",
            "weighted avg       0.85      0.85      0.85        26\n",
            "\n",
            "📊 Matrice de confusion :\n",
            " [[15  2]\n",
            " [ 2  7]]\n"
          ]
        }
      ],
      "source": [
        "# 📦 Imports\n",
        "from sklearn.model_selection import GridSearchCV\n",
        "from sklearn.neighbors import KNeighborsClassifier\n",
        "\n",
        "# 📊 Grille des hyperparamètres\n",
        "param_grid_knn = {\n",
        "    'n_neighbors': list(range(1, 21)),       # nombre de voisins\n",
        "    'weights': ['uniform', 'distance'],     # pondération\n",
        "    'p': [1, 2]                              # 1 = Manhattan, 2 = Euclidean\n",
        "}\n",
        "\n",
        "# 🤖 Modèle KNN de base\n",
        "knn_model = KNeighborsClassifier()\n",
        "\n",
        "# 🔍 GridSearch avec validation croisée (5 folds)\n",
        "grid_search_knn = GridSearchCV(\n",
        "    estimator=knn_model,\n",
        "    param_grid=param_grid_knn,\n",
        "    cv=5,\n",
        "    scoring='accuracy',\n",
        "    n_jobs=-1,  # utilise tous les cœurs\n",
        "    verbose=1\n",
        ")\n",
        "\n",
        "# 🚀 Entraînement sur les données normalisées\n",
        "grid_search_knn.fit(X_train_scaled, y_train)\n",
        "\n",
        "# 🏆 Meilleurs hyperparamètres\n",
        "print(\"✅ Meilleurs paramètres :\", grid_search_knn.best_params_)\n",
        "print(\"📈 Meilleure accuracy (CV) :\", grid_search_knn.best_score_)\n",
        "\n",
        "# 📊 Évaluation sur les données de test\n",
        "best_knn = grid_search_knn.best_estimator_\n",
        "y_pred_knn = best_knn.predict(X_test_scaled)\n",
        "\n",
        "from sklearn.metrics import classification_report, confusion_matrix, accuracy_score\n",
        "print(\"🎯 Accuracy sur le test :\", accuracy_score(y_test, y_pred_knn))\n",
        "print(\"📋 Rapport de classification :\\n\", classification_report(y_test, y_pred_knn))\n",
        "print(\"📊 Matrice de confusion :\\n\", confusion_matrix(y_test, y_pred_knn))\n"
      ]
    },
    {
      "cell_type": "code",
      "execution_count": 5,
      "id": "73120b3c-0f16-40b8-bf15-f88964287f5b",
      "metadata": {
        "colab": {
          "base_uri": "https://localhost:8080/"
        },
        "id": "73120b3c-0f16-40b8-bf15-f88964287f5b",
        "outputId": "1c366fd3-23b3-4e16-cfe1-53aa023464ba"
      },
      "outputs": [
        {
          "output_type": "stream",
          "name": "stdout",
          "text": [
            "✅ Scores validation croisée : [0.80769231 0.76923077 0.65384615 0.69230769 0.76      ]\n",
            "📊 Moyenne : 0.7366153846153847\n",
            "📉 Écart-type : 0.05563532996961915\n",
            "🎯 Répartition des classes (biais de classe possible) : Counter({0: 86, 1: 43})\n",
            "📋 Rapport de classification croisée :\n",
            "              precision    recall  f1-score   support\n",
            "\n",
            "           0       0.78      0.84      0.81        86\n",
            "           1       0.62      0.53      0.57        43\n",
            "\n",
            "    accuracy                           0.74       129\n",
            "   macro avg       0.70      0.69      0.69       129\n",
            "weighted avg       0.73      0.74      0.73       129\n",
            "\n",
            "📊 Matrice de confusion :\n",
            "[[72 14]\n",
            " [20 23]]\n"
          ]
        }
      ],
      "source": [
        "# 📦 Imports\n",
        "import pandas as pd\n",
        "import numpy as np\n",
        "from sklearn.model_selection import train_test_split, GridSearchCV, cross_val_score, StratifiedKFold\n",
        "from sklearn.preprocessing import LabelEncoder, StandardScaler\n",
        "from sklearn.neighbors import KNeighborsClassifier\n",
        "from sklearn.metrics import classification_report, confusion_matrix, accuracy_score\n",
        "from collections import Counter\n",
        "\n",
        "# 📂 Chargement des données\n",
        "df = pd.read_csv(\"admission_des_patients.csv\")\n",
        "\n",
        "# ✅ Création de la variable cible 'Revisited'\n",
        "df['Revisited'] = df['subject_id'].map(df['subject_id'].value_counts() > 1).astype(int)\n",
        "\n",
        "# 🧼 Nettoyage des colonnes numériques\n",
        "df[\"HeightInMeters\"] = df[\"HeightInMeters\"].astype(str).str.replace(\",\", \".\").astype(float)\n",
        "df[\"WeightInKilograms\"] = df[\"WeightInKilograms\"].astype(str).str.replace(\",\", \".\").astype(float)\n",
        "df[\"BMI\"] = df[\"BMI\"].astype(str).str.replace(\",\", \".\").astype(float)\n",
        "\n",
        "# 🧽 Préparation des données\n",
        "features = [\n",
        "    \"gender\", \"HeightInMeters\", \"WeightInKilograms\", \"BMI\",\n",
        "    \"SmokerStatus\", \"AlcoholDrinkers\", \"AdmissionYear\", \"AdmissionDayOfWeek\"\n",
        "]\n",
        "df = df[features + [\"Revisited\"]].dropna()\n",
        "\n",
        "# 🔢 Encodage\n",
        "label_encoders = {}\n",
        "for col in [\"gender\", \"SmokerStatus\"]:\n",
        "    le = LabelEncoder()\n",
        "    df[col] = le.fit_transform(df[col])\n",
        "    label_encoders[col] = le\n",
        "\n",
        "# ⚖️ Séparation X/y\n",
        "X = df.drop(\"Revisited\", axis=1)\n",
        "y = df[\"Revisited\"]\n",
        "\n",
        "# 🔍 Normalisation\n",
        "scaler = StandardScaler()\n",
        "X_scaled = scaler.fit_transform(X)\n",
        "\n",
        "# ⚙️ Modèle KNN\n",
        "knn = KNeighborsClassifier(n_neighbors=5)\n",
        "\n",
        "# 📊 Cross Validation (k-fold = 5)\n",
        "cv = StratifiedKFold(n_splits=5, shuffle=True, random_state=42)\n",
        "cv_scores = cross_val_score(knn, X_scaled, y, cv=cv, scoring='accuracy')\n",
        "\n",
        "# 📈 Résultat cross validation\n",
        "print(\"✅ Scores validation croisée :\", cv_scores)\n",
        "print(\"📊 Moyenne :\", cv_scores.mean())\n",
        "print(\"📉 Écart-type :\", cv_scores.std())\n",
        "\n",
        "# 🧮 Analyse de la distribution des classes\n",
        "print(\"🎯 Répartition des classes (biais de classe possible) :\", Counter(y))\n",
        "\n",
        "# 🔍 Détection du biais de classification\n",
        "from sklearn.model_selection import cross_val_predict\n",
        "y_pred_cv = cross_val_predict(knn, X_scaled, y, cv=cv)\n",
        "\n",
        "print(\"📋 Rapport de classification croisée :\")\n",
        "print(classification_report(y, y_pred_cv))\n",
        "\n",
        "print(\"📊 Matrice de confusion :\")\n",
        "print(confusion_matrix(y, y_pred_cv))\n"
      ]
    },
    {
      "cell_type": "code",
      "execution_count": 6,
      "id": "e1a19a2c-9a9f-4036-8aa6-20a69ed8a4ea",
      "metadata": {
        "colab": {
          "base_uri": "https://localhost:8080/"
        },
        "id": "e1a19a2c-9a9f-4036-8aa6-20a69ed8a4ea",
        "outputId": "d0bdd6b0-6369-4e21-d0ea-c2f4c61fd1a3"
      },
      "outputs": [
        {
          "output_type": "stream",
          "name": "stdout",
          "text": [
            "✅ Scores CV : [0.57692308 0.53846154 0.88461538 0.92307692 0.6       ]\n",
            "📈 Moyenne : 0.7046153846153846\n",
            "📉 Écart-type : 0.1643059636901291\n",
            "📋 Rapport de classification :\n",
            "              precision    recall  f1-score   support\n",
            "\n",
            "           0       0.74      0.86      0.80        86\n",
            "           1       0.59      0.40      0.47        43\n",
            "\n",
            "    accuracy                           0.71       129\n",
            "   macro avg       0.66      0.63      0.63       129\n",
            "weighted avg       0.69      0.71      0.69       129\n",
            "\n",
            "📊 Matrice de confusion :\n",
            "[[74 12]\n",
            " [26 17]]\n"
          ]
        }
      ],
      "source": [
        "from sklearn.model_selection import cross_val_score, cross_val_predict\n",
        "from sklearn.metrics import classification_report, confusion_matrix, accuracy_score\n",
        "\n",
        "# 🎯 Meilleur modèle issu du GridSearch\n",
        "best_knn_model = grid_search_knn.best_estimator_\n",
        "\n",
        "# 📊 Validation croisée avec 5 folds (stratifiée pour respecter les classes)\n",
        "cv_scores = cross_val_score(best_knn_model, X_scaled, y, cv=5, scoring='accuracy')\n",
        "print(\"✅ Scores CV :\", cv_scores)\n",
        "print(\"📈 Moyenne :\", cv_scores.mean())\n",
        "print(\"📉 Écart-type :\", cv_scores.std())\n",
        "\n",
        "# 🔍 Prédictions croisées pour analyse du biais\n",
        "y_pred_cv = cross_val_predict(best_knn_model, X_scaled, y, cv=5)\n",
        "\n",
        "print(\"📋 Rapport de classification :\")\n",
        "print(classification_report(y, y_pred_cv))\n",
        "\n",
        "print(\"📊 Matrice de confusion :\")\n",
        "print(confusion_matrix(y, y_pred_cv))\n"
      ]
    },
    {
      "cell_type": "code",
      "execution_count": 7,
      "id": "42430f7a-94bd-4ee7-b2aa-358b9910760b",
      "metadata": {
        "colab": {
          "base_uri": "https://localhost:8080/"
        },
        "id": "42430f7a-94bd-4ee7-b2aa-358b9910760b",
        "outputId": "cbba6a95-71c7-46b2-ac9f-9c1efac25930"
      },
      "outputs": [
        {
          "output_type": "stream",
          "name": "stdout",
          "text": [
            "Fitting 5 folds for each of 24 candidates, totalling 120 fits\n",
            "✅ Meilleurs paramètres : {'rf__class_weight': None, 'rf__max_depth': None, 'rf__min_samples_split': 2, 'rf__n_estimators': 200}\n",
            "📊 Meilleure F1-score (CV) : 0.7916755793226382\n",
            "📋 Rapport de classification :\n",
            "              precision    recall  f1-score   support\n",
            "\n",
            "           0       0.91      0.87      0.89        86\n",
            "           1       0.77      0.84      0.80        43\n",
            "\n",
            "    accuracy                           0.86       129\n",
            "   macro avg       0.84      0.85      0.85       129\n",
            "weighted avg       0.87      0.86      0.86       129\n",
            "\n",
            "📊 Matrice de confusion :\n",
            "[[75 11]\n",
            " [ 7 36]]\n"
          ]
        }
      ],
      "source": [
        "# 📦 Imports\n",
        "import pandas as pd\n",
        "import numpy as np\n",
        "from sklearn.model_selection import train_test_split, GridSearchCV, StratifiedKFold, cross_val_predict\n",
        "from sklearn.preprocessing import LabelEncoder, StandardScaler\n",
        "from sklearn.ensemble import RandomForestClassifier\n",
        "from sklearn.metrics import classification_report, confusion_matrix, accuracy_score\n",
        "from imblearn.over_sampling import SMOTE\n",
        "from imblearn.pipeline import Pipeline\n",
        "\n",
        "# 📂 Chargement des données\n",
        "df = pd.read_csv(\"admission_des_patients.csv\")\n",
        "df['Revisited'] = df['subject_id'].map(df['subject_id'].value_counts() > 1).astype(int)\n",
        "\n",
        "# 🧼 Nettoyage des colonnes numériques\n",
        "df[\"HeightInMeters\"] = df[\"HeightInMeters\"].astype(str).str.replace(\",\", \".\").astype(float)\n",
        "df[\"WeightInKilograms\"] = df[\"WeightInKilograms\"].astype(str).str.replace(\",\", \".\").astype(float)\n",
        "df[\"BMI\"] = df[\"BMI\"].astype(str).str.replace(\",\", \".\").astype(float)\n",
        "\n",
        "# 🧽 Préparation\n",
        "features = [\n",
        "    \"gender\", \"HeightInMeters\", \"WeightInKilograms\", \"BMI\",\n",
        "    \"SmokerStatus\", \"AlcoholDrinkers\", \"AdmissionYear\", \"AdmissionDayOfWeek\"\n",
        "]\n",
        "df = df[features + [\"Revisited\"]].dropna()\n",
        "\n",
        "# 🔢 Encodage\n",
        "label_encoders = {}\n",
        "for col in [\"gender\", \"SmokerStatus\"]:\n",
        "    le = LabelEncoder()\n",
        "    df[col] = le.fit_transform(df[col])\n",
        "    label_encoders[col] = le\n",
        "\n",
        "# 🔎 Séparation X/y\n",
        "X = df.drop(\"Revisited\", axis=1)\n",
        "y = df[\"Revisited\"]\n",
        "\n",
        "# ⚖️ Pipeline avec SMOTE + StandardScaler + RandomForest\n",
        "pipeline = Pipeline(steps=[\n",
        "    ('scaler', StandardScaler()),\n",
        "    ('smote', SMOTE(random_state=42)),\n",
        "    ('rf', RandomForestClassifier(random_state=42))\n",
        "])\n",
        "\n",
        "# 🔍 Grille de paramètres\n",
        "param_grid = {\n",
        "    'rf__n_estimators': [100, 200],\n",
        "    'rf__max_depth': [None, 10, 20],\n",
        "    'rf__min_samples_split': [2, 5],\n",
        "    'rf__class_weight': [None, 'balanced']\n",
        "}\n",
        "\n",
        "# 🧪 Validation croisée stratifiée\n",
        "cv = StratifiedKFold(n_splits=5, shuffle=True, random_state=42)\n",
        "\n",
        "# 🚀 Grid Search\n",
        "grid_search = GridSearchCV(pipeline, param_grid=param_grid, cv=cv, scoring='f1', n_jobs=-1, verbose=1)\n",
        "grid_search.fit(X, y)\n",
        "\n",
        "# 📈 Meilleurs résultats\n",
        "print(\"✅ Meilleurs paramètres :\", grid_search.best_params_)\n",
        "print(\"📊 Meilleure F1-score (CV) :\", grid_search.best_score_)\n",
        "\n",
        "# 🧾 Prédictions croisée sur tout le dataset\n",
        "y_pred_cv = cross_val_predict(grid_search.best_estimator_, X, y, cv=cv)\n",
        "\n",
        "# 📋 Rapport de performance\n",
        "print(\"📋 Rapport de classification :\")\n",
        "print(classification_report(y, y_pred_cv))\n",
        "print(\"📊 Matrice de confusion :\")\n",
        "print(confusion_matrix(y, y_pred_cv))\n"
      ]
    },
    {
      "cell_type": "code",
      "execution_count": 8,
      "id": "830f9256-6cce-4285-a2ae-bc7bb058b6a9",
      "metadata": {
        "colab": {
          "base_uri": "https://localhost:8080/",
          "height": 599
        },
        "id": "830f9256-6cce-4285-a2ae-bc7bb058b6a9",
        "outputId": "1064b594-3a2d-4572-a6eb-fa8816ea7d4c"
      },
      "outputs": [
        {
          "output_type": "stream",
          "name": "stderr",
          "text": [
            "/usr/local/lib/python3.11/dist-packages/IPython/core/pylabtools.py:151: UserWarning: Glyph 128202 (\\N{BAR CHART}) missing from font(s) DejaVu Sans.\n",
            "  fig.canvas.print_figure(bytes_io, **kw)\n"
          ]
        },
        {
          "output_type": "display_data",
          "data": {
            "text/plain": [
              "<Figure size 800x600 with 1 Axes>"
            ],
            "image/png": "[encoded data removed]"
          },
          "metadata": {}
        }
      ],
      "source": [
        "# 📦 Imports nécessaires\n",
        "import matplotlib.pyplot as plt\n",
        "from sklearn.metrics import roc_curve, roc_auc_score\n",
        "\n",
        "# ✅ On utilise le meilleur modèle du GridSearch\n",
        "best_model = grid_search.best_estimator_\n",
        "\n",
        "# 🔮 Obtenir les probabilités prédites (pour la classe 1)\n",
        "y_proba = cross_val_predict(best_model, X, y, cv=5, method='predict_proba')[:, 1]\n",
        "\n",
        "# 📈 Calcul des courbes ROC\n",
        "fpr, tpr, thresholds = roc_curve(y, y_proba)\n",
        "auc_score = roc_auc_score(y, y_proba)\n",
        "\n",
        "# 🎨 Affichage de la courbe ROC\n",
        "plt.figure(figsize=(8, 6))\n",
        "plt.plot(fpr, tpr, color='darkorange', lw=2, label=f\"ROC curve (AUC = {auc_score:.2f})\")\n",
        "plt.plot([0, 1], [0, 1], color='navy', lw=2, linestyle='--')\n",
        "plt.xlim([0.0, 1.0])\n",
        "plt.ylim([0.0, 1.05])\n",
        "plt.xlabel('Taux de Faux Positifs (FPR)')\n",
        "plt.ylabel('Taux de Vrais Positifs (TPR)')\n",
        "plt.title(\"📊 Courbe ROC - Random Forest avec SMOTE\")\n",
        "plt.legend(loc=\"lower right\")\n",
        "plt.grid(True)\n",
        "plt.show()\n"
      ]
    },
    {
      "cell_type": "code",
      "execution_count": 9,
      "id": "6251f7e6-c091-4b77-aeb5-750c7e286911",
      "metadata": {
        "colab": {
          "base_uri": "https://localhost:8080/",
          "height": 472
        },
        "id": "6251f7e6-c091-4b77-aeb5-750c7e286911",
        "outputId": "eea84872-64cf-436d-fddb-98b6f9ad2472"
      },
      "outputs": [
        {
          "output_type": "display_data",
          "data": {
            "text/plain": [
              "<Figure size 640x480 with 2 Axes>"
            ],
            "image/png": "[encoded data removed]"
          },
          "metadata": {}
        }
      ],
      "source": [
        "import seaborn as sns\n",
        "from sklearn.metrics import confusion_matrix\n",
        "# 🎨 Affichage de la matrice de confusion (heatmap)\n",
        "sns.heatmap(confusion_matrix(y, y_pred_cv), annot=True, fmt='d', cmap='Blues')\n",
        "plt.xlabel(\"Prédit\")\n",
        "plt.ylabel(\"Réel\")\n",
        "plt.title(\"Matrice de confusion (heatmap)\")\n",
        "plt.show()\n",
        "\n"
      ]
    },
    {
      "cell_type": "code",
      "execution_count": 10,
      "id": "7948ae51-baa3-4952-b8ba-7a529803914d",
      "metadata": {
        "colab": {
          "base_uri": "https://localhost:8080/"
        },
        "id": "7948ae51-baa3-4952-b8ba-7a529803914d",
        "outputId": "a99eb2e8-5ef2-40f4-95bc-1d8280bdadf6"
      },
      "outputs": [
        {
          "output_type": "stream",
          "name": "stdout",
          "text": [
            "Requirement already satisfied: shap in /usr/local/lib/python3.11/dist-packages (0.47.1)\n",
            "Requirement already satisfied: numpy in /usr/local/lib/python3.11/dist-packages (from shap) (2.0.2)\n",
            "Requirement already satisfied: scipy in /usr/local/lib/python3.11/dist-packages (from shap) (1.14.1)\n",
            "Requirement already satisfied: scikit-learn in /usr/local/lib/python3.11/dist-packages (from shap) (1.6.1)\n",
            "Requirement already satisfied: pandas in /usr/local/lib/python3.11/dist-packages (from shap) (2.2.2)\n",
            "Requirement already satisfied: tqdm>=4.27.0 in /usr/local/lib/python3.11/dist-packages (from shap) (4.67.1)\n",
            "Requirement already satisfied: packaging>20.9 in /usr/local/lib/python3.11/dist-packages (from shap) (24.2)\n",
            "Requirement already satisfied: slicer==0.0.8 in /usr/local/lib/python3.11/dist-packages (from shap) (0.0.8)\n",
            "Requirement already satisfied: numba>=0.54 in /usr/local/lib/python3.11/dist-packages (from shap) (0.60.0)\n",
            "Requirement already satisfied: cloudpickle in /usr/local/lib/python3.11/dist-packages (from shap) (3.1.1)\n",
            "Requirement already satisfied: typing-extensions in /usr/local/lib/python3.11/dist-packages (from shap) (4.13.2)\n",
            "Requirement already satisfied: llvmlite<0.44,>=0.43.0dev0 in /usr/local/lib/python3.11/dist-packages (from numba>=0.54->shap) (0.43.0)\n",
            "Requirement already satisfied: python-dateutil>=2.8.2 in /usr/local/lib/python3.11/dist-packages (from pandas->shap) (2.8.2)\n",
            "Requirement already satisfied: pytz>=2020.1 in /usr/local/lib/python3.11/dist-packages (from pandas->shap) (2025.2)\n",
            "Requirement already satisfied: tzdata>=2022.7 in /usr/local/lib/python3.11/dist-packages (from pandas->shap) (2025.2)\n",
            "Requirement already satisfied: joblib>=1.2.0 in /usr/local/lib/python3.11/dist-packages (from scikit-learn->shap) (1.4.2)\n",
            "Requirement already satisfied: threadpoolctl>=3.1.0 in /usr/local/lib/python3.11/dist-packages (from scikit-learn->shap) (3.6.0)\n",
            "Requirement already satisfied: six>=1.5 in /usr/local/lib/python3.11/dist-packages (from python-dateutil>=2.8.2->pandas->shap) (1.17.0)\n"
          ]
        }
      ],
      "source": [
        "pip install shap\n"
      ]
    },
    {
      "cell_type": "code",
      "execution_count": 12,
      "id": "bfa291c4-88bf-4830-be32-364d2857711f",
      "metadata": {
        "scrolled": true,
        "colab": {
          "base_uri": "https://localhost:8080/",
          "height": 1000
        },
        "id": "bfa291c4-88bf-4830-be32-364d2857711f",
        "outputId": "074b8bb6-44d9-49a0-cfef-7a394d0f3702"
      },
      "outputs": [
        {
          "output_type": "display_data",
          "data": {
            "text/plain": [
              "<Figure size 640x480 with 0 Axes>"
            ]
          },
          "metadata": {}
        },
        {
          "output_type": "display_data",
          "data": {
            "text/plain": [
              "<Figure size 1150x660 with 1 Axes>"
            ],
            "image/png": "[encoded data removed]"
          },
          "metadata": {}
        },
        {
          "output_type": "error",
          "ename": "IndexError",
          "evalue": "too many indices for array: array is 0-dimensional, but 1 were indexed",
          "traceback": [
            "\u001b[0;31m---------------------------------------------------------------------------\u001b[0m",
            "\u001b[0;31mIndexError\u001b[0m                                Traceback (most recent call last)",
            "\u001b[0;32m<ipython-input-12-1102b146165e>\u001b[0m in \u001b[0;36m<cell line: 0>\u001b[0;34m()\u001b[0m\n\u001b[1;32m     56\u001b[0m \u001b[0;34m\u001b[0m\u001b[0m\n\u001b[1;32m     57\u001b[0m \u001b[0;31m# 📊 Heatmap SHAP pour les 50 premiers patients, classe revisite\u001b[0m\u001b[0;34m\u001b[0m\u001b[0;34m\u001b[0m\u001b[0m\n\u001b[0;32m---> 58\u001b[0;31m \u001b[0mshap\u001b[0m\u001b[0;34m.\u001b[0m\u001b[0mplots\u001b[0m\u001b[0;34m.\u001b[0m\u001b[0mheatmap\u001b[0m\u001b[0;34m(\u001b[0m\u001b[0mshap_values_class1\u001b[0m\u001b[0;34m[\u001b[0m\u001b[0;34m:\u001b[0m\u001b[0;36m50\u001b[0m\u001b[0;34m]\u001b[0m\u001b[0;34m,\u001b[0m \u001b[0minstance_order\u001b[0m\u001b[0;34m=\u001b[0m\u001b[0;34m'importance'\u001b[0m\u001b[0;34m)\u001b[0m\u001b[0;34m\u001b[0m\u001b[0;34m\u001b[0m\u001b[0m\n\u001b[0m\u001b[1;32m     59\u001b[0m \u001b[0;34m\u001b[0m\u001b[0m\n\u001b[1;32m     60\u001b[0m \u001b[0;34m\u001b[0m\u001b[0m\n",
            "\u001b[0;32m/usr/local/lib/python3.11/dist-packages/shap/plots/_heatmap.py\u001b[0m in \u001b[0;36mheatmap\u001b[0;34m(shap_values, instance_order, feature_values, feature_order, max_display, cmap, show, plot_width, ax)\u001b[0m\n\u001b[1;32m     93\u001b[0m     \u001b[0;31m#     instance_order_ops = None\u001b[0m\u001b[0;34m\u001b[0m\u001b[0;34m\u001b[0m\u001b[0m\n\u001b[1;32m     94\u001b[0m \u001b[0;34m\u001b[0m\u001b[0m\n\u001b[0;32m---> 95\u001b[0;31m     \u001b[0mfeature_names\u001b[0m \u001b[0;34m=\u001b[0m \u001b[0mnp\u001b[0m\u001b[0;34m.\u001b[0m\u001b[0marray\u001b[0m\u001b[0;34m(\u001b[0m\u001b[0mshap_values\u001b[0m\u001b[0;34m.\u001b[0m\u001b[0mfeature_names\u001b[0m\u001b[0;34m)\u001b[0m\u001b[0;34m[\u001b[0m\u001b[0mfeature_order\u001b[0m\u001b[0;34m]\u001b[0m\u001b[0;34m\u001b[0m\u001b[0;34m\u001b[0m\u001b[0m\n\u001b[0m\u001b[1;32m     96\u001b[0m     \u001b[0mvalues\u001b[0m \u001b[0;34m=\u001b[0m \u001b[0mshap_values\u001b[0m\u001b[0;34m.\u001b[0m\u001b[0mvalues\u001b[0m\u001b[0;34m[\u001b[0m\u001b[0minstance_order\u001b[0m\u001b[0;34m]\u001b[0m\u001b[0;34m[\u001b[0m\u001b[0;34m:\u001b[0m\u001b[0;34m,\u001b[0m \u001b[0mfeature_order\u001b[0m\u001b[0;34m]\u001b[0m\u001b[0;34m\u001b[0m\u001b[0;34m\u001b[0m\u001b[0m\n\u001b[1;32m     97\u001b[0m     \u001b[0mfeature_values\u001b[0m \u001b[0;34m=\u001b[0m \u001b[0mfeature_values\u001b[0m\u001b[0;34m[\u001b[0m\u001b[0mfeature_order\u001b[0m\u001b[0;34m]\u001b[0m\u001b[0;34m\u001b[0m\u001b[0;34m\u001b[0m\u001b[0m\n",
            "\u001b[0;31mIndexError\u001b[0m: too many indices for array: array is 0-dimensional, but 1 were indexed"
          ]
        }
      ],
      "source": [
        "# 📦 Imports\n",
        "import pandas as pd\n",
        "from sklearn.preprocessing import LabelEncoder, StandardScaler\n",
        "from sklearn.ensemble import RandomForestClassifier\n",
        "from imblearn.over_sampling import SMOTE\n",
        "import shap\n",
        "import matplotlib.pyplot as plt\n",
        "\n",
        "# 📂 Charger les données\n",
        "df = pd.read_csv(\"admission_des_patients.csv\")\n",
        "df['Revisited'] = df['subject_id'].map(df['subject_id'].value_counts() > 1).astype(int)\n",
        "\n",
        "# 🧼 Nettoyage\n",
        "df[\"HeightInMeters\"] = df[\"HeightInMeters\"].astype(str).str.replace(\",\", \".\").astype(float)\n",
        "df[\"WeightInKilograms\"] = df[\"WeightInKilograms\"].astype(str).str.replace(\",\", \".\").astype(float)\n",
        "df[\"BMI\"] = df[\"BMI\"].astype(str).str.replace(\",\", \".\").astype(float)\n",
        "\n",
        "# 🔢 Encodage des variables catégorielles\n",
        "for col in [\"gender\", \"SmokerStatus\"]:\n",
        "    le = LabelEncoder()\n",
        "    df[col] = le.fit_transform(df[col])\n",
        "\n",
        "# 🔎 Sélection des features\n",
        "features = [\n",
        "    \"gender\", \"HeightInMeters\", \"WeightInKilograms\", \"BMI\",\n",
        "    \"SmokerStatus\", \"AlcoholDrinkers\", \"AdmissionYear\", \"AdmissionDayOfWeek\"\n",
        "]\n",
        "\n",
        "X = df[features].dropna()\n",
        "y = df.loc[X.index, \"Revisited\"]\n",
        "\n",
        "# 🧪 SMOTE pour rééquilibrer les classes\n",
        "smote = SMOTE(random_state=42)\n",
        "X_resampled, y_resampled = smote.fit_resample(X, y)\n",
        "\n",
        "\n",
        "# 🎯 Entraînement du modèle avec standardisation\n",
        "scaler = StandardScaler()\n",
        "X_resampled_scaled = scaler.fit_transform(X_resampled)\n",
        "\n",
        "rf_model = RandomForestClassifier(n_estimators=200, random_state=42)\n",
        "rf_model.fit(X_resampled_scaled, y_resampled)\n",
        "\n",
        "# ✅ Interprétation SHAP avec les données originales (non standardisées)\n",
        "explainer = shap.Explainer(rf_model, X_resampled_scaled)  # base = modèle entraîné sur données scalées\n",
        "shap_values = explainer(X_resampled_scaled, check_additivity=False)\n",
        "\n",
        "# 📊 Résumé avec X non standardisé\n",
        "shap.summary_plot(shap_values, X_resampled, feature_names=X.columns)\n",
        "\n",
        "\n",
        "# 📊 Heatmap SHAP pour les 50 premiers patients\n",
        "# 📊 Heatmap SHAP pour les 50 premiers patients (sans features_names)\n",
        "# 🎯 Extraire uniquement les valeurs SHAP pour la classe 1 (revisite)\n",
        "shap_values_class1 = shap_values[..., 1]\n",
        "\n",
        "# 📊 Heatmap SHAP pour les 50 premiers patients, classe revisite\n",
        "shap.plots.heatmap(shap_values_class1[:50], instance_order='importance')\n",
        "\n",
        "\n"
      ]
    },
    {
      "cell_type": "code",
      "source": [
        "import joblib  # 📦 pour la sauvegarde du modèle\n",
        "\n",
        "# ... Ton code complet ici (jusqu'à l'entraînement avec grid_search.fit(...))\n",
        "\n",
        "# ✅ Sauvegarde du meilleur modèle trouvé\n",
        "joblib.dump(grid_search.best_estimator_, \"modeleReadmission.pkl\")\n",
        "\n",
        "print(\"🎉 Modèle sauvegardé sous 'modeleReadmission.pkl'\")\n"
      ],
      "metadata": {
        "colab": {
          "base_uri": "https://localhost:8080/"
        },
        "id": "N9HSG3-4LYoF",
        "outputId": "eab77ca7-2361-4a1e-97d2-d599b82257a7"
      },
      "id": "N9HSG3-4LYoF",
      "execution_count": 19,
      "outputs": [
        {
          "output_type": "stream",
          "name": "stdout",
          "text": [
            "🎉 Modèle sauvegardé sous 'modeleReadmission.pkl'\n"
          ]
        }
      ]
    },
    {
      "cell_type": "code",
      "source": [],
      "metadata": {
        "id": "UmlEjpJ3LYp-"
      },
      "id": "UmlEjpJ3LYp-",
      "execution_count": null,
      "outputs": []
    }
  ],
  "metadata": {
    "kernelspec": {
      "display_name": "Python 3 (ipykernel)",
      "language": "python",
      "name": "python3"
    },
    "language_info": {
      "codemirror_mode": {
        "name": "ipython",
        "version": 3
      },
      "file_extension": ".py",
      "mimetype": "text/x-python",
      "name": "python",
      "nbconvert_exporter": "python",
      "pygments_lexer": "ipython3",
      "version": "3.11.5"
    },
    "colab": {
      "provenance": []
    }
  },
  "nbformat": 4,
  "nbformat_minor": 5
}